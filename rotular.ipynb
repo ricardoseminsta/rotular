{
 "cells": [
  {
   "cell_type": "markdown",
   "id": "5fa5054a",
   "metadata": {},
   "source": [
    "# Rotulando Bens por sala"
   ]
  },
  {
   "cell_type": "code",
   "execution_count": null,
   "id": "85648e83",
   "metadata": {},
   "outputs": [],
   "source": [
    "import pandas as pd\n",
    "tombos_df = pd.read_excel('biblioteca_sala_estudos.xlsx')\n",
    "\n",
    "autentica = pd.read_excel('ls.xlsx')\n",
    "\n",
    "login = str(autentica['login'][0])\n",
    "senha = str(autentica['senha'][0])\n",
    "\n",
    "display(tombos_df.head())"
   ]
  },
  {
   "cell_type": "code",
   "execution_count": null,
   "id": "c938e202",
   "metadata": {},
   "outputs": [],
   "source": [
    "from selenium import webdriver\n",
    "from selenium.webdriver.common.keys import Keys\n",
    "from selenium.webdriver.support.ui import Select\n",
    "\n",
    "import time\n",
    "\n",
    "def abrir_suap():\n",
    "    \n",
    "    global nav\n",
    "    nav = webdriver.Chrome()\n",
    "    nav.get(\"https://suap.ifpe.edu.br/accounts/login/?next=/\")\n",
    "    # inserindo usuário\n",
    "    nav.find_element_by_xpath('//*[@id=\"id_username\"]').click()\n",
    "    nav.find_element_by_xpath('//*[@id=\"id_username\"]').send_keys(login)\n",
    "\n",
    "    # inserindo senha \n",
    "    nav.find_element_by_xpath('//*[@id=\"id_password\"]').click()\n",
    "    nav.find_element_by_xpath('//*[@id=\"id_password\"]').send_keys(senha)\n",
    "\n",
    "    nav.find_element_by_xpath('//*[@id=\"ok\"]').click()"
   ]
  },
  {
   "cell_type": "code",
   "execution_count": 13,
   "id": "27a7118d",
   "metadata": {},
   "outputs": [],
   "source": [
    "def rotular():\n",
    "        \n",
    "    abrir_suap()\n",
    " \n",
    "    for tombo in tombos_df['tombos']:\n",
    "\n",
    "        nav.get(f\"https://suap.ifpe.edu.br/patrimonio/inventario/{tombo}/\")\n",
    "        try:\n",
    "            nav.find_element_by_xpath('/html/body/div[1]/div[3]/form/div[1]/fieldset/div[3]/div/ul/li/input').click()\n",
    "            nav.find_element_by_xpath('/html/body/div[1]/div[3]/form/div[1]/fieldset/div[3]/div/ul/li/input').send_keys(\"CAFI - SALA ESTUDOS BIBLIOTECA\")\n",
    "            time.sleep(2)\n",
    "            nav.find_element_by_xpath('/html/body/div[1]/div[3]/form/div[1]/fieldset/div[3]/div/ul/li/input').send_keys(Keys.ENTER)\n",
    "            nav.find_element_by_xpath('/html/body/div[1]/div[3]/form/div[2]/input').click()\n",
    "\n",
    "        except:\n",
    "            continue\n",
    "\n",
    "# /html/body/div[1]/div[3]/form/div[1]/fieldset/div[3]/div/ul/li/input"
   ]
  },
  {
   "cell_type": "code",
   "execution_count": 14,
   "id": "d788ed45",
   "metadata": {},
   "outputs": [],
   "source": [
    "rotular()"
   ]
  },
  {
   "cell_type": "code",
   "execution_count": null,
   "id": "afb7e1cc",
   "metadata": {},
   "outputs": [],
   "source": []
  }
 ],
 "metadata": {
  "kernelspec": {
   "display_name": "Python 3",
   "language": "python",
   "name": "python3"
  },
  "language_info": {
   "codemirror_mode": {
    "name": "ipython",
    "version": 3
   },
   "file_extension": ".py",
   "mimetype": "text/x-python",
   "name": "python",
   "nbconvert_exporter": "python",
   "pygments_lexer": "ipython3",
   "version": "3.8.8"
  }
 },
 "nbformat": 4,
 "nbformat_minor": 5
}
